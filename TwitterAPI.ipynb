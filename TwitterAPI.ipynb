{
 "cells": [
  {
   "cell_type": "code",
   "execution_count": 1,
   "metadata": {},
   "outputs": [],
   "source": [
    "#Twitter API to get tweets by username\n",
    "import tweepy\n",
    "import pandas as pd"
   ]
  },
  {
   "cell_type": "code",
   "execution_count": 2,
   "metadata": {},
   "outputs": [],
   "source": [
    "#call Twitter API and handle setting and requirement\n",
    "class TwitterAPIAccess(object):\n",
    "    # Consumer Keys And Secret\n",
    "    APIKey = \"wuC5Kr1WHFhQdq1oARYtqg4Pi\"\n",
    "    APISecret = \"PZFavN9hyUkTO4QFObi0RmVmiT3KTM9M25tzCX6JchKWD7bUrR\"\n",
    "    \n",
    "    #Authentication Tokens\n",
    "    accessKey = \"1304405939852845056-AzF2TjQEOc2Xl82C2S2EVqDnOnPQU1\"\n",
    "    accessSecret = \"TXblrYASlVa67uZ9Z0ElrB3MZcFFTOV3VSYx9rZQIEPbL\"\n",
    "    #intiate connection with Twitter API\n",
    "    def __init__(self):\n",
    "        # consumer authorization \n",
    "        authorization = tweepy.OAuthHandler(self.APIKey, self.APISecret)\n",
    "        \n",
    "        # access token\n",
    "        authorization.set_access_token(self.accessKey, self.accessSecret)\n",
    "        # api connection\n",
    "        self.api = tweepy.API(authorization, wait_on_rate_limit=True)\n",
    "        self.tweepy = tweepy\n",
    "        \n",
    "#query and collect data\n",
    "class FetchData(TwitterAPIAccess):\n",
    "    def __init__(self):\n",
    "        super(FetchData, self).__init__()\n",
    "        self.generateCSVFile()\n",
    "    \n",
    "    # Get user timeline by username\n",
    "    def generateCSVFile(self): \n",
    "        columns = \"username name lang date tweets\".split()\n",
    "        df = pd.DataFrame([], columns=columns)\n",
    "        df.to_csv('log.csv', mode=\"w\", index=False, header=True)\n",
    "    \n",
    "    # Get user timeline by username\n",
    "    def getTimeline(self, username): \n",
    "        screenName = '@'+username\n",
    "        timeline = self.api.user_timeline\n",
    "        timeline = self.tweepy.Cursor(timeline, screen_name=screenName, tweet_mode=\"extended\").items()\n",
    "        return timeline\n",
    "    \n",
    "    # Get user Tweets by username\n",
    "    def getTweets(self, username): \n",
    "        results=[]\n",
    "        tweets = self.getTimeline(username)\n",
    "        for Tweet in tweets:\n",
    "            userData = (Tweet.user.screen_name, Tweet.user.name, Tweet.lang, Tweet.created_at, Tweet.full_text)\n",
    "            results.append(userData)\n",
    "        df = pd.DataFrame(results,columns = \"username name lang date tweets\".split())\n",
    "        return df"
   ]
  }
 ],
 "metadata": {
  "kernelspec": {
   "display_name": "Python 3",
   "language": "python",
   "name": "python3"
  },
  "language_info": {
   "codemirror_mode": {
    "name": "ipython",
    "version": 3
   },
   "file_extension": ".py",
   "mimetype": "text/x-python",
   "name": "python",
   "nbconvert_exporter": "python",
   "pygments_lexer": "ipython3",
   "version": "3.8.3"
  }
 },
 "nbformat": 4,
 "nbformat_minor": 4
}
