{
 "cells": [
  {
   "cell_type": "code",
   "execution_count": null,
   "metadata": {},
   "outputs": [],
   "source": [
    "# alter table\n",
    "# index = 'Donald Trump0'\n",
    "# if index in x.index.values:\n",
    "#     x.loc[index,'yearOfBirth'] = x.loc[index,'yearOfBirth'] + 1\n",
    "# else:\n",
    "#     x.loc[index] = [0, 0, 0, 0 , 0]"
   ]
  },
  {
   "cell_type": "code",
   "execution_count": null,
   "metadata": {},
   "outputs": [],
   "source": [
    "data = pd.read_csv(\"tweetsData.csv\")\n",
    "data.groupby('tweets').count()"
   ]
  },
  {
   "cell_type": "code",
   "execution_count": null,
   "metadata": {},
   "outputs": [],
   "source": [
    "apiAccess = TwitterAPI.FetchData()\n",
    "df = apiAccess.getTweets(\"theninalu\")\n",
    "df"
   ]
  },
  {
   "cell_type": "code",
   "execution_count": null,
   "metadata": {},
   "outputs": [],
   "source": [
    "# Validate English word\n",
    "import enchant\n",
    "d = enchant.Dict(\"en_US\")\n",
    "d.check(\"hi\")"
   ]
  }
 ],
 "metadata": {
  "kernelspec": {
   "display_name": "Python 3",
   "language": "python",
   "name": "python3"
  },
  "language_info": {
   "codemirror_mode": {
    "name": "ipython",
    "version": 3
   },
   "file_extension": ".py",
   "mimetype": "text/x-python",
   "name": "python",
   "nbconvert_exporter": "python",
   "pygments_lexer": "ipython3",
   "version": "3.8.3"
  }
 },
 "nbformat": 4,
 "nbformat_minor": 4
}
