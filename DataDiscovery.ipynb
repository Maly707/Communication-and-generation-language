{
 "cells": [
  {
   "cell_type": "code",
   "execution_count": 1,
   "metadata": {},
   "outputs": [],
   "source": [
    "import pandas as pd\n",
    "import matplotlib.pyplot as plt"
   ]
  },
  {
   "cell_type": "code",
   "execution_count": 76,
   "metadata": {},
   "outputs": [
    {
     "data": {
      "text/html": [
       "<div>\n",
       "<style scoped>\n",
       "    .dataframe tbody tr th:only-of-type {\n",
       "        vertical-align: middle;\n",
       "    }\n",
       "\n",
       "    .dataframe tbody tr th {\n",
       "        vertical-align: top;\n",
       "    }\n",
       "\n",
       "    .dataframe thead tr th {\n",
       "        text-align: left;\n",
       "    }\n",
       "\n",
       "    .dataframe thead tr:last-of-type th {\n",
       "        text-align: right;\n",
       "    }\n",
       "</style>\n",
       "<table border=\"1\" class=\"dataframe\">\n",
       "  <thead>\n",
       "    <tr>\n",
       "      <th></th>\n",
       "      <th>twitterUser</th>\n",
       "      <th>user%</th>\n",
       "    </tr>\n",
       "    <tr>\n",
       "      <th></th>\n",
       "      <th>count</th>\n",
       "      <th></th>\n",
       "    </tr>\n",
       "    <tr>\n",
       "      <th>generation</th>\n",
       "      <th></th>\n",
       "      <th></th>\n",
       "    </tr>\n",
       "  </thead>\n",
       "  <tbody>\n",
       "    <tr>\n",
       "      <th>00s</th>\n",
       "      <td>15</td>\n",
       "      <td>4.901961</td>\n",
       "    </tr>\n",
       "    <tr>\n",
       "      <th>30s</th>\n",
       "      <td>6</td>\n",
       "      <td>1.960784</td>\n",
       "    </tr>\n",
       "    <tr>\n",
       "      <th>40s</th>\n",
       "      <td>17</td>\n",
       "      <td>5.555556</td>\n",
       "    </tr>\n",
       "    <tr>\n",
       "      <th>50s</th>\n",
       "      <td>27</td>\n",
       "      <td>8.823529</td>\n",
       "    </tr>\n",
       "    <tr>\n",
       "      <th>60s</th>\n",
       "      <td>55</td>\n",
       "      <td>17.973856</td>\n",
       "    </tr>\n",
       "    <tr>\n",
       "      <th>70s</th>\n",
       "      <td>53</td>\n",
       "      <td>17.320261</td>\n",
       "    </tr>\n",
       "    <tr>\n",
       "      <th>80s</th>\n",
       "      <td>55</td>\n",
       "      <td>17.973856</td>\n",
       "    </tr>\n",
       "    <tr>\n",
       "      <th>90s</th>\n",
       "      <td>78</td>\n",
       "      <td>25.490196</td>\n",
       "    </tr>\n",
       "  </tbody>\n",
       "</table>\n",
       "</div>"
      ],
      "text/plain": [
       "           twitterUser      user%\n",
       "                 count           \n",
       "generation                       \n",
       "00s                 15   4.901961\n",
       "30s                  6   1.960784\n",
       "40s                 17   5.555556\n",
       "50s                 27   8.823529\n",
       "60s                 55  17.973856\n",
       "70s                 53  17.320261\n",
       "80s                 55  17.973856\n",
       "90s                 78  25.490196"
      ]
     },
     "execution_count": 76,
     "metadata": {},
     "output_type": "execute_result"
    }
   ],
   "source": [
    "#get count of twitter User per generation\n",
    "userScrapedProfile = pd.read_csv(\"dataCleaned.csv\")\n",
    "userSummary = userScrapedProfile.groupby(['generation']).agg({'twitterUser': ['count']})\n",
    "userSummary['user%'] = userSummary['twitterUser'].apply(lambda x: 100 * x / float(x.sum()))\n",
    "userSummary"
   ]
  },
  {
   "cell_type": "code",
   "execution_count": 77,
   "metadata": {},
   "outputs": [
    {
     "data": {
      "text/plain": [
       "<matplotlib.axes._subplots.AxesSubplot at 0x1f216e35bb0>"
      ]
     },
     "execution_count": 77,
     "metadata": {},
     "output_type": "execute_result"
    },
    {
     "data": {
      "image/png": "[encoded data removed]",
      "text/plain": [
       "<Figure size 432x288 with 1 Axes>"
      ]
     },
     "metadata": {
      "needs_background": "light"
     },
     "output_type": "display_data"
    }
   ],
   "source": [
    "#graph for number or user for each generation\n",
    "userSummary.plot(y='user%')\n",
    "# summary.plot()"
   ]
  },
  {
   "cell_type": "code",
   "execution_count": 78,
   "metadata": {},
   "outputs": [
    {
     "data": {
      "text/html": [
       "<div>\n",
       "<style scoped>\n",
       "    .dataframe tbody tr th:only-of-type {\n",
       "        vertical-align: middle;\n",
       "    }\n",
       "\n",
       "    .dataframe tbody tr th {\n",
       "        vertical-align: top;\n",
       "    }\n",
       "\n",
       "    .dataframe thead tr th {\n",
       "        text-align: left;\n",
       "    }\n",
       "\n",
       "    .dataframe thead tr:last-of-type th {\n",
       "        text-align: right;\n",
       "    }\n",
       "</style>\n",
       "<table border=\"1\" class=\"dataframe\">\n",
       "  <thead>\n",
       "    <tr>\n",
       "      <th></th>\n",
       "      <th>tweets</th>\n",
       "      <th>Tweet%</th>\n",
       "    </tr>\n",
       "    <tr>\n",
       "      <th></th>\n",
       "      <th>count</th>\n",
       "      <th></th>\n",
       "    </tr>\n",
       "    <tr>\n",
       "      <th>generation</th>\n",
       "      <th></th>\n",
       "      <th></th>\n",
       "    </tr>\n",
       "  </thead>\n",
       "  <tbody>\n",
       "    <tr>\n",
       "      <th>00s</th>\n",
       "      <td>22799</td>\n",
       "      <td>3.408661</td>\n",
       "    </tr>\n",
       "    <tr>\n",
       "      <th>30s</th>\n",
       "      <td>4761</td>\n",
       "      <td>0.711813</td>\n",
       "    </tr>\n",
       "    <tr>\n",
       "      <th>40s</th>\n",
       "      <td>41016</td>\n",
       "      <td>6.132271</td>\n",
       "    </tr>\n",
       "    <tr>\n",
       "      <th>50s</th>\n",
       "      <td>50887</td>\n",
       "      <td>7.608076</td>\n",
       "    </tr>\n",
       "    <tr>\n",
       "      <th>60s</th>\n",
       "      <td>118813</td>\n",
       "      <td>17.763641</td>\n",
       "    </tr>\n",
       "    <tr>\n",
       "      <th>70s</th>\n",
       "      <td>115003</td>\n",
       "      <td>17.194011</td>\n",
       "    </tr>\n",
       "    <tr>\n",
       "      <th>80s</th>\n",
       "      <td>141240</td>\n",
       "      <td>21.116684</td>\n",
       "    </tr>\n",
       "    <tr>\n",
       "      <th>90s</th>\n",
       "      <td>174336</td>\n",
       "      <td>26.064842</td>\n",
       "    </tr>\n",
       "  </tbody>\n",
       "</table>\n",
       "</div>"
      ],
      "text/plain": [
       "            tweets     Tweet%\n",
       "             count           \n",
       "generation                   \n",
       "00s          22799   3.408661\n",
       "30s           4761   0.711813\n",
       "40s          41016   6.132271\n",
       "50s          50887   7.608076\n",
       "60s         118813  17.763641\n",
       "70s         115003  17.194011\n",
       "80s         141240  21.116684\n",
       "90s         174336  26.064842"
      ]
     },
     "execution_count": 78,
     "metadata": {},
     "output_type": "execute_result"
    }
   ],
   "source": [
    "userTweets = pd.read_csv(\"tweetsData.csv\")\n",
    "userTweets.columns = ['name','lang','date','tweets','generation']\n",
    "userTweetSummary = userTweets.groupby(['generation']).agg({'tweets': ['count']})\n",
    "userTweetSummary['Tweet%'] = userTweetSummary['tweets'].apply(lambda x: 100 * x / float(x.sum()))\n",
    "userTweetSummary"
   ]
  },
  {
   "cell_type": "code",
   "execution_count": 79,
   "metadata": {},
   "outputs": [
    {
     "data": {
      "text/html": [
       "<div>\n",
       "<style scoped>\n",
       "    .dataframe tbody tr th:only-of-type {\n",
       "        vertical-align: middle;\n",
       "    }\n",
       "\n",
       "    .dataframe tbody tr th {\n",
       "        vertical-align: top;\n",
       "    }\n",
       "\n",
       "    .dataframe thead tr th {\n",
       "        text-align: left;\n",
       "    }\n",
       "\n",
       "    .dataframe thead tr:last-of-type th {\n",
       "        text-align: right;\n",
       "    }\n",
       "</style>\n",
       "<table border=\"1\" class=\"dataframe\">\n",
       "  <thead>\n",
       "    <tr>\n",
       "      <th></th>\n",
       "      <th>twitterUser</th>\n",
       "      <th>user%</th>\n",
       "      <th>tweets</th>\n",
       "      <th>Tweet%</th>\n",
       "    </tr>\n",
       "    <tr>\n",
       "      <th></th>\n",
       "      <th>count</th>\n",
       "      <th></th>\n",
       "      <th>count</th>\n",
       "      <th></th>\n",
       "    </tr>\n",
       "    <tr>\n",
       "      <th>generation</th>\n",
       "      <th></th>\n",
       "      <th></th>\n",
       "      <th></th>\n",
       "      <th></th>\n",
       "    </tr>\n",
       "  </thead>\n",
       "  <tbody>\n",
       "    <tr>\n",
       "      <th>00s</th>\n",
       "      <td>15</td>\n",
       "      <td>4.901961</td>\n",
       "      <td>22799</td>\n",
       "      <td>3.408661</td>\n",
       "    </tr>\n",
       "    <tr>\n",
       "      <th>30s</th>\n",
       "      <td>6</td>\n",
       "      <td>1.960784</td>\n",
       "      <td>4761</td>\n",
       "      <td>0.711813</td>\n",
       "    </tr>\n",
       "    <tr>\n",
       "      <th>40s</th>\n",
       "      <td>17</td>\n",
       "      <td>5.555556</td>\n",
       "      <td>41016</td>\n",
       "      <td>6.132271</td>\n",
       "    </tr>\n",
       "    <tr>\n",
       "      <th>50s</th>\n",
       "      <td>27</td>\n",
       "      <td>8.823529</td>\n",
       "      <td>50887</td>\n",
       "      <td>7.608076</td>\n",
       "    </tr>\n",
       "    <tr>\n",
       "      <th>60s</th>\n",
       "      <td>55</td>\n",
       "      <td>17.973856</td>\n",
       "      <td>118813</td>\n",
       "      <td>17.763641</td>\n",
       "    </tr>\n",
       "    <tr>\n",
       "      <th>70s</th>\n",
       "      <td>53</td>\n",
       "      <td>17.320261</td>\n",
       "      <td>115003</td>\n",
       "      <td>17.194011</td>\n",
       "    </tr>\n",
       "    <tr>\n",
       "      <th>80s</th>\n",
       "      <td>55</td>\n",
       "      <td>17.973856</td>\n",
       "      <td>141240</td>\n",
       "      <td>21.116684</td>\n",
       "    </tr>\n",
       "    <tr>\n",
       "      <th>90s</th>\n",
       "      <td>78</td>\n",
       "      <td>25.490196</td>\n",
       "      <td>174336</td>\n",
       "      <td>26.064842</td>\n",
       "    </tr>\n",
       "  </tbody>\n",
       "</table>\n",
       "</div>"
      ],
      "text/plain": [
       "           twitterUser      user%  tweets     Tweet%\n",
       "                 count              count           \n",
       "generation                                          \n",
       "00s                 15   4.901961   22799   3.408661\n",
       "30s                  6   1.960784    4761   0.711813\n",
       "40s                 17   5.555556   41016   6.132271\n",
       "50s                 27   8.823529   50887   7.608076\n",
       "60s                 55  17.973856  118813  17.763641\n",
       "70s                 53  17.320261  115003  17.194011\n",
       "80s                 55  17.973856  141240  21.116684\n",
       "90s                 78  25.490196  174336  26.064842"
      ]
     },
     "execution_count": 79,
     "metadata": {},
     "output_type": "execute_result"
    }
   ],
   "source": [
    "summary = pd.merge(\n",
    "    userSummary, \n",
    "    userTweetSummary, \n",
    "    left_index=True, \n",
    "    right_index=True, \n",
    "    how='outer'\n",
    ")\n",
    "summary"
   ]
  },
  {
   "cell_type": "code",
   "execution_count": 80,
   "metadata": {},
   "outputs": [
    {
     "data": {
      "text/plain": [
       "<matplotlib.legend.Legend at 0x1f17a7def40>"
      ]
     },
     "execution_count": 80,
     "metadata": {},
     "output_type": "execute_result"
    },
    {
     "data": {
      "image/png": "[encoded data removed]",
      "text/plain": [
       "<Figure size 1440x360 with 1 Axes>"
      ]
     },
     "metadata": {
      "needs_background": "light"
     },
     "output_type": "display_data"
    }
   ],
   "source": [
    "summary.plot(\n",
    "    title='comparison between user percentage and tweets percentage', \n",
    "    lw=2, \n",
    "    colormap='jet', \n",
    "    marker='.',\n",
    "    markersize=12, \n",
    "    figsize=(20,5), \n",
    "    y=['user%', 'Tweet%']).legend([\"user%\", \"Tweet%\"])"
   ]
  }
 ],
 "metadata": {
  "kernelspec": {
   "display_name": "Python 3",
   "language": "python",
   "name": "python3"
  },
  "language_info": {
   "codemirror_mode": {
    "name": "ipython",
    "version": 3
   },
   "file_extension": ".py",
   "mimetype": "text/x-python",
   "name": "python",
   "nbconvert_exporter": "python",
   "pygments_lexer": "ipython3",
   "version": "3.8.3"
  }
 },
 "nbformat": 4,
 "nbformat_minor": 4
}
