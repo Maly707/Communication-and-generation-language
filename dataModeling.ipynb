{
 "cells": [
  {
   "cell_type": "code",
   "execution_count": null,
   "metadata": {},
   "outputs": [],
   "source": [
    "#pip install tweet-preprocessor\n",
    "import pandas as pd\n",
    "import preprocessor as p\n",
    "import re\n",
    "import string\n",
    "\n",
    "from sklearn.preprocessing import MinMaxScaler\n",
    "from sklearn.model_selection import train_test_split\n",
    "from sklearn.linear_model import LogisticRegression"
   ]
  },
  {
   "cell_type": "code",
   "execution_count": null,
   "metadata": {},
   "outputs": [],
   "source": [
    "class TextProcess(object):\n",
    "    def cleanText(self, text):\n",
    "        text = self.removeWebItems(text)\n",
    "        text = self.removeNumbers(text)\n",
    "        text = self.removeSpaces(text)\n",
    "        text = self.cleanPunctuation(text)\n",
    "        return text\n",
    "        \n",
    "    #remve Punctuation and convert all text to lower case\n",
    "    def cleanPunctuation(self, text): \n",
    "        return ''.join(char for char in text if char not in string.punctuation).lower()\n",
    "\n",
    "    #remove more than one space\n",
    "    def removeSpaces(self, text):\n",
    "        return re.sub('\\s+', ' ', text).strip()\n",
    "\n",
    "    # remove numbers\n",
    "    def removeNumbers(self, text):\n",
    "        return re.sub(r'\\d+', '', text)\n",
    "    \n",
    "    #URLs, Hashtags,Mentions, Reserved words (RT, FAV), Emojis, Smileys\n",
    "    def removeWebItems(self, text):\n",
    "        return p.clean(text)"
   ]
  },
  {
   "cell_type": "code",
   "execution_count": null,
   "metadata": {},
   "outputs": [],
   "source": [
    "userTweets = pd.read_csv(\"tweetsData.csv\")\n",
    "userTweets.columns = ['name','lang','date','tweets','generation']\n",
    "clean = TextProcess()\n",
    "userTweets['cleanedTweetText'] = userTweets['tweets'].apply(lambda tweets: clean.cleanText(tweets))"
   ]
  },
  {
   "cell_type": "code",
   "execution_count": null,
   "metadata": {},
   "outputs": [],
   "source": [
    "# remove empty tweets after clean up\n",
    "cleanUserTweets = userTweets[userTweets['cleanedTweetText'] != '']"
   ]
  },
  {
   "cell_type": "code",
   "execution_count": null,
   "metadata": {},
   "outputs": [],
   "source": [
    "dataSet = cleanUserTweets[['generation', 'cleanedTweetText']]\n",
    "dataSet = dataSet.drop_duplicates()"
   ]
  },
  {
   "cell_type": "code",
   "execution_count": null,
   "metadata": {},
   "outputs": [],
   "source": [
    "columns = \"word 30s 40s 50s 60s 70s 80s 90s 00s\".split()\n",
    "wordMatrix = pd.DataFrame([], columns=columns)\n",
    "wordMatrix = wordMatrix.set_index(['word'])\n",
    "datax = dataSet.head()"
   ]
  },
  {
   "cell_type": "code",
   "execution_count": null,
   "metadata": {},
   "outputs": [],
   "source": [
    "for index, row in datax.iterrows():\n",
    "    text = row['cleanedTweetText']\n",
    "    generation = row['generation']\n",
    "    for word in text.split():\n",
    "        if word not in wordMatrix.index.values:\n",
    "            wordMatrix.loc[word] = [0, 0, 0, 0, 0, 0, 0, 0]\n",
    "        wordMatrix.loc[word,generation] = wordMatrix.loc[word,generation] + 1\n",
    "    \n",
    "wordMatrix"
   ]
  },
  {
   "cell_type": "code",
   "execution_count": null,
   "metadata": {},
   "outputs": [],
   "source": [
    "generation = \"30s 40s 50s 60s 70s 80s 90s 00s\".split()\n",
    "x = wordMatrix[generation]\n",
    "y = wordMatrix.index"
   ]
  },
  {
   "cell_type": "code",
   "execution_count": null,
   "metadata": {},
   "outputs": [],
   "source": [
    "#split the data to traning and testing\n",
    "x_train, x_test, y_train, y_test = train_test_split(x, y, test_size=0.2, random_state=0)\n",
    "scaler = MinMaxScaler()\n",
    "x_train = scaler.fit_transform(x_train)\n",
    "x_test = scaler.transform(x_test)"
   ]
  },
  {
   "cell_type": "code",
   "execution_count": null,
   "metadata": {},
   "outputs": [],
   "source": [
    "regression = LogisticRegression()\n",
    "#train the data\n",
    "regression.fit(x_train, y_train)\n",
    "#test the data\n",
    "train_score = regression.score(x_train, y_train)\n",
    "test_score = regression.score(x_test, y_test)\n",
    "print('Training accuracy: '+str(train_score))\n",
    "print('Testing accuracy: '+str(test_score))"
   ]
  }
 ],
 "metadata": {
  "kernelspec": {
   "display_name": "Python 3",
   "language": "python",
   "name": "python3"
  },
  "language_info": {
   "codemirror_mode": {
    "name": "ipython",
    "version": 3
   },
   "file_extension": ".py",
   "mimetype": "text/x-python",
   "name": "python",
   "nbconvert_exporter": "python",
   "pygments_lexer": "ipython3",
   "version": "3.8.3"
  }
 },
 "nbformat": 4,
 "nbformat_minor": 4
}
