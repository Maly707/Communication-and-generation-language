{
 "cells": [
  {
   "cell_type": "code",
   "execution_count": 1,
   "metadata": {},
   "outputs": [
    {
     "name": "stdout",
     "output_type": "stream",
     "text": [
      "importing Jupyter notebook from TwitterAPI.ipynb\n"
     ]
    }
   ],
   "source": [
    "#Get tweets for users fetched from google\n",
    "import pandas as pd\n",
    "import import_ipynb\n",
    "import TwitterAPI"
   ]
  },
  {
   "cell_type": "code",
   "execution_count": 2,
   "metadata": {
    "scrolled": true
   },
   "outputs": [],
   "source": [
    "#read cleaned data after generation been calculated in excel sheet\n",
    "data = pd.read_csv(\"data.csv\")\n",
    "#get the twitter user from link\n",
    "data['twitterUser'] = data['twitter'].str.split(r'twitter.com/').str.get(1)\n",
    "#remove any decoration after user name\n",
    "data['twitterUser'] = data['twitterUser'].str.split(r'?').str.get(0)\n",
    "#store cleaned data\n",
    "data.to_csv('dataCleaned.csv', mode=\"w\", index=False, header=True)\n",
    "#make the name as data table row index\n",
    "cleanedData = data.set_index(['name'])"
   ]
  },
  {
   "cell_type": "code",
   "execution_count": 3,
   "metadata": {},
   "outputs": [],
   "source": [
    "#add status column to data table\n",
    "cleanedData['status'] = 0\n",
    "\n",
    "#generate new file for the tweets and information result\n",
    "#add headers\n",
    "columns = \"username name lang date tweets\".split()\n",
    "df = pd.DataFrame([], columns=columns)\n",
    "#create csv file with header\n",
    "df.to_csv('tweetsData.csv', mode=\"w\", index=False, header=True)\n",
    "apiAccess = TwitterAPI.FetchData()"
   ]
  },
  {
   "cell_type": "code",
   "execution_count": null,
   "metadata": {},
   "outputs": [
    {
     "name": "stdout",
     "output_type": "stream",
     "text": [
      "realDonaldTrump --- Done \n",
      "KimKardashian --- Done \n",
      "rihanna --- Failed \n"
     ]
    }
   ],
   "source": [
    "#loop in each user from google cleaned scrapping\n",
    "for index, row in cleanedData.iterrows():\n",
    "    #check the status\n",
    "    if(row['status'] == 1):\n",
    "        #print username and status in the case we need to rerun in failed casses\n",
    "        print(row['twitterUser']+' --- completed ')\n",
    "        #escape this user if it been process before\n",
    "        continue\n",
    "    try:\n",
    "        #Call to get the tweets using TwitterAPI class\n",
    "        df = apiAccess.getTweets(row['twitterUser'])\n",
    "        #add generation column from google scrapping to the tweets\n",
    "        df['generation'] = row['generation']\n",
    "        #add result to generated table\n",
    "        df.to_csv('tweetsData.csv', mode='a', index=False, header=False)\n",
    "        #print success message after stored in csv file \n",
    "        print(row['twitterUser']+' --- Done ')\n",
    "        #mark the record as true\n",
    "        cleanedData.loc[index,'status'] = 1\n",
    "    except:\n",
    "        #print Failed message\n",
    "        print(row['twitterUser']+' --- Failed ')\n",
    "        #go to next user\n",
    "        pass"
   ]
  },
  {
   "cell_type": "code",
   "execution_count": null,
   "metadata": {},
   "outputs": [],
   "source": [
    "#get the failed accounts and re try again\n",
    "failedUser = cleanedData[cleanedData['status'] == 0]\n",
    "for index, row in failedUser.iterrows():\n",
    "    #check the status\n",
    "    if(row['status'] == 1):\n",
    "        #print username and status in the case we need to rerun in failed casses\n",
    "        print(row['twitterUser']+' --- completed ')\n",
    "        #escape this user if it been process before\n",
    "        continue\n",
    "    try:\n",
    "        #Call to get the tweets using TwitterAPI class\n",
    "        df = apiAccess.getTweets(row['twitterUser'])\n",
    "        #add generation column from google scrapping to the tweets\n",
    "        df['generation'] = row['generation']\n",
    "        #add result to generated table\n",
    "        df.to_csv('tweetsData.csv', mode='a', index=False, header=False)\n",
    "        #print success message after stored in csv file \n",
    "        print(row['twitterUser']+' --- Done ')\n",
    "        #mark the record as true\n",
    "        cleanedData.loc[index,'status'] = 1\n",
    "    except:\n",
    "        #print Failed message\n",
    "        print(row['twitterUser']+' --- Failed ')\n",
    "        #go to next user\n",
    "        pass"
   ]
  }
 ],
 "metadata": {
  "kernelspec": {
   "display_name": "Python 3",
   "language": "python",
   "name": "python3"
  },
  "language_info": {
   "codemirror_mode": {
    "name": "ipython",
    "version": 3
   },
   "file_extension": ".py",
   "mimetype": "text/x-python",
   "name": "python",
   "nbconvert_exporter": "python",
   "pygments_lexer": "ipython3",
   "version": "3.8.3"
  }
 },
 "nbformat": 4,
 "nbformat_minor": 4
}
